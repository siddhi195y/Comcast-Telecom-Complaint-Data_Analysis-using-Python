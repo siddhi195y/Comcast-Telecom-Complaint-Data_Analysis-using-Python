{
 "cells": [
  {
   "cell_type": "code",
   "execution_count": null,
   "id": "a4b591e3",
   "metadata": {},
   "outputs": [],
   "source": [
    "# Objective \n",
    "\n",
    "# 1. Exploratory Data Analysis  [ EDA ]\n",
    "# 2. Data Preprocessing \n",
    "# 3. Data Cleaning \n",
    "\n",
    "# Python Libraries :\n",
    "\n",
    "# 1. numpy : numerical functions\n",
    "# 2. pandas : data manipulation \n",
    "# 3. Visualization : matplotlib, seaborn"
   ]
  },
  {
   "cell_type": "code",
   "execution_count": 1,
   "id": "f27b421e",
   "metadata": {},
   "outputs": [],
   "source": [
    "# Objective of Project :\n",
    "\n",
    "# I performed EDA Exploratory Data Analysis on Comcast Telecom complaints dataset.\n",
    "# In this project I extracted and performed manipulations on the data using pandas library. \n",
    "# I applied various algebric computrations using numpy.\n",
    "# I used matplotlib, seaborn for analysis and visualization. The data pipeline used in this \n",
    "# project is data extraction , Data Cleaning , Data Pre processing ,\n",
    "# Exploratory Data Analysis and Visualization."
   ]
  },
  {
   "cell_type": "code",
   "execution_count": 2,
   "id": "750dedf7",
   "metadata": {},
   "outputs": [],
   "source": [
    "# Import Libraries \n",
    "\n",
    "import numpy as np                    # Numeric computations \n",
    "import pandas as pd                   # Data Manipulation          \n",
    "import matplotlib.pyplot as plt       # Data Visualization \n",
    "import seaborn as sns                 # Data Visualization "
   ]
  },
  {
   "cell_type": "code",
   "execution_count": 3,
   "id": "33c162d0",
   "metadata": {},
   "outputs": [],
   "source": [
    "df = pd.read_csv('Comcast_telecom_complaints_data.csv')"
   ]
  },
  {
   "cell_type": "code",
   "execution_count": 5,
   "id": "abb8cfda",
   "metadata": {},
   "outputs": [
    {
     "data": {
      "text/plain": [
       "(2224, 11)"
      ]
     },
     "execution_count": 5,
     "metadata": {},
     "output_type": "execute_result"
    }
   ],
   "source": [
    "# Display Total rows and Columns \n",
    "df.shape"
   ]
  },
  {
   "cell_type": "code",
   "execution_count": 7,
   "id": "20ae61ff",
   "metadata": {},
   "outputs": [],
   "source": [
    "# Display Data \n",
    "df"
   ]
  },
  {
   "cell_type": "code",
   "execution_count": 9,
   "id": "61c5083e",
   "metadata": {},
   "outputs": [],
   "source": [
    "# Display first 5 rows.\n",
    "\n",
    "df.head()"
   ]
  },
  {
   "cell_type": "code",
   "execution_count": 11,
   "id": "0857152c",
   "metadata": {},
   "outputs": [],
   "source": [
    "# Display last 10 Rows.\n",
    "\n",
    "df.tail(10)"
   ]
  },
  {
   "cell_type": "code",
   "execution_count": 12,
   "id": "70c45070",
   "metadata": {},
   "outputs": [
    {
     "data": {
      "text/html": [
       "<div>\n",
       "<style scoped>\n",
       "    .dataframe tbody tr th:only-of-type {\n",
       "        vertical-align: middle;\n",
       "    }\n",
       "\n",
       "    .dataframe tbody tr th {\n",
       "        vertical-align: top;\n",
       "    }\n",
       "\n",
       "    .dataframe thead th {\n",
       "        text-align: right;\n",
       "    }\n",
       "</style>\n",
       "<table border=\"1\" class=\"dataframe\">\n",
       "  <thead>\n",
       "    <tr style=\"text-align: right;\">\n",
       "      <th></th>\n",
       "      <th>Ticket #</th>\n",
       "      <th>Customer Complaint</th>\n",
       "      <th>Date</th>\n",
       "      <th>Date_month_year</th>\n",
       "      <th>Time</th>\n",
       "      <th>Received Via</th>\n",
       "      <th>City</th>\n",
       "      <th>State</th>\n",
       "      <th>Zip code</th>\n",
       "      <th>Status</th>\n",
       "      <th>Filing on Behalf of Someone</th>\n",
       "    </tr>\n",
       "  </thead>\n",
       "  <tbody>\n",
       "    <tr>\n",
       "      <th>1361</th>\n",
       "      <td>244072</td>\n",
       "      <td>Dishonest Billing Practices</td>\n",
       "      <td>20-04-15</td>\n",
       "      <td>20-Apr-15</td>\n",
       "      <td>4:28:08 AM</td>\n",
       "      <td>Customer Care Call</td>\n",
       "      <td>Muskegon</td>\n",
       "      <td>Michigan</td>\n",
       "      <td>49441</td>\n",
       "      <td>Closed</td>\n",
       "      <td>No</td>\n",
       "    </tr>\n",
       "    <tr>\n",
       "      <th>547</th>\n",
       "      <td>368187</td>\n",
       "      <td>Prolonged internet outage, tardy response</td>\n",
       "      <td>26-06-15</td>\n",
       "      <td>26-Jun-15</td>\n",
       "      <td>1:30:10 PM</td>\n",
       "      <td>Internet</td>\n",
       "      <td>Decatur</td>\n",
       "      <td>Georgia</td>\n",
       "      <td>30033</td>\n",
       "      <td>Solved</td>\n",
       "      <td>No</td>\n",
       "    </tr>\n",
       "    <tr>\n",
       "      <th>1478</th>\n",
       "      <td>350931</td>\n",
       "      <td>day 3 of Internet going down and disconnect su...</td>\n",
       "      <td>19-06-15</td>\n",
       "      <td>19-Jun-15</td>\n",
       "      <td>1:37:10 AM</td>\n",
       "      <td>Internet</td>\n",
       "      <td>Olympia</td>\n",
       "      <td>Washington</td>\n",
       "      <td>98502</td>\n",
       "      <td>Solved</td>\n",
       "      <td>No</td>\n",
       "    </tr>\n",
       "    <tr>\n",
       "      <th>1028</th>\n",
       "      <td>218889</td>\n",
       "      <td>Wireless Internet</td>\n",
       "      <td>04-06-15</td>\n",
       "      <td>04-Jun-15</td>\n",
       "      <td>9:58:45 AM</td>\n",
       "      <td>Customer Care Call</td>\n",
       "      <td>Kent</td>\n",
       "      <td>Washington</td>\n",
       "      <td>98032</td>\n",
       "      <td>Closed</td>\n",
       "      <td>No</td>\n",
       "    </tr>\n",
       "    <tr>\n",
       "      <th>2005</th>\n",
       "      <td>255037</td>\n",
       "      <td>Billing - Comcast</td>\n",
       "      <td>24-04-15</td>\n",
       "      <td>24-Apr-15</td>\n",
       "      <td>12:22:26 PM</td>\n",
       "      <td>Internet</td>\n",
       "      <td>Sunnyvale</td>\n",
       "      <td>California</td>\n",
       "      <td>94087</td>\n",
       "      <td>Closed</td>\n",
       "      <td>No</td>\n",
       "    </tr>\n",
       "  </tbody>\n",
       "</table>\n",
       "</div>"
      ],
      "text/plain": [
       "     Ticket #                                 Customer Complaint      Date  \\\n",
       "1361   244072                        Dishonest Billing Practices  20-04-15   \n",
       "547    368187          Prolonged internet outage, tardy response  26-06-15   \n",
       "1478   350931  day 3 of Internet going down and disconnect su...  19-06-15   \n",
       "1028   218889                                  Wireless Internet  04-06-15   \n",
       "2005   255037                                  Billing - Comcast  24-04-15   \n",
       "\n",
       "     Date_month_year         Time        Received Via       City       State  \\\n",
       "1361       20-Apr-15   4:28:08 AM  Customer Care Call   Muskegon    Michigan   \n",
       "547        26-Jun-15   1:30:10 PM            Internet    Decatur     Georgia   \n",
       "1478       19-Jun-15   1:37:10 AM            Internet    Olympia  Washington   \n",
       "1028       04-Jun-15   9:58:45 AM  Customer Care Call       Kent  Washington   \n",
       "2005       24-Apr-15  12:22:26 PM            Internet  Sunnyvale  California   \n",
       "\n",
       "      Zip code  Status Filing on Behalf of Someone  \n",
       "1361     49441  Closed                          No  \n",
       "547      30033  Solved                          No  \n",
       "1478     98502  Solved                          No  \n",
       "1028     98032  Closed                          No  \n",
       "2005     94087  Closed                          No  "
      ]
     },
     "execution_count": 12,
     "metadata": {},
     "output_type": "execute_result"
    }
   ],
   "source": [
    "# Display random 5 rows.\n",
    "\n",
    "df.sample(5)"
   ]
  },
  {
   "cell_type": "code",
   "execution_count": 13,
   "id": "18113ccb",
   "metadata": {},
   "outputs": [
    {
     "data": {
      "text/plain": [
       "Ticket #                       object\n",
       "Customer Complaint             object\n",
       "Date                           object\n",
       "Date_month_year                object\n",
       "Time                           object\n",
       "Received Via                   object\n",
       "City                           object\n",
       "State                          object\n",
       "Zip code                        int64\n",
       "Status                         object\n",
       "Filing on Behalf of Someone    object\n",
       "dtype: object"
      ]
     },
     "execution_count": 13,
     "metadata": {},
     "output_type": "execute_result"
    }
   ],
   "source": [
    "# Identify data types of each column     dtypes\n",
    "\n",
    "df.dtypes\n"
   ]
  },
  {
   "cell_type": "code",
   "execution_count": 14,
   "id": "65901722",
   "metadata": {},
   "outputs": [],
   "source": [
    "# Since dates are in 'object' data types format. Letus change it to 'date'.\n",
    "\n",
    "df['Date_month_year'] = pd.to_datetime(df['Date_month_year'])"
   ]
  },
  {
   "cell_type": "code",
   "execution_count": 15,
   "id": "115047b7",
   "metadata": {},
   "outputs": [
    {
     "data": {
      "text/plain": [
       "Ticket #                               object\n",
       "Customer Complaint                     object\n",
       "Date                                   object\n",
       "Date_month_year                datetime64[ns]\n",
       "Time                                   object\n",
       "Received Via                           object\n",
       "City                                   object\n",
       "State                                  object\n",
       "Zip code                                int64\n",
       "Status                                 object\n",
       "Filing on Behalf of Someone            object\n",
       "dtype: object"
      ]
     },
     "execution_count": 15,
     "metadata": {},
     "output_type": "execute_result"
    }
   ],
   "source": [
    "df.dtypes"
   ]
  },
  {
   "cell_type": "code",
   "execution_count": 16,
   "id": "747441fe",
   "metadata": {},
   "outputs": [],
   "source": [
    "# Identify Categorical and Continuous Features(Columns)."
   ]
  },
  {
   "cell_type": "code",
   "execution_count": 17,
   "id": "bdadffd7",
   "metadata": {},
   "outputs": [],
   "source": [
    "# Categorical Columns : "
   ]
  },
  {
   "cell_type": "code",
   "execution_count": 18,
   "id": "aefbe194",
   "metadata": {},
   "outputs": [
    {
     "data": {
      "text/plain": [
       "Index(['Ticket #', 'Customer Complaint', 'Date', 'Date_month_year', 'Time',\n",
       "       'Received Via', 'City', 'State', 'Zip code', 'Status',\n",
       "       'Filing on Behalf of Someone'],\n",
       "      dtype='object')"
      ]
     },
     "execution_count": 18,
     "metadata": {},
     "output_type": "execute_result"
    }
   ],
   "source": [
    "df.columns"
   ]
  },
  {
   "cell_type": "code",
   "execution_count": null,
   "id": "2456d77e",
   "metadata": {},
   "outputs": [],
   "source": [
    "# Categorical Features : 'Received Via', 'State',Status', 'Filing on Behalf of Someone'"
   ]
  },
  {
   "cell_type": "code",
   "execution_count": 19,
   "id": "9c3208f2",
   "metadata": {},
   "outputs": [
    {
     "data": {
      "text/plain": [
       "{'Customer Care Call', 'Internet'}"
      ]
     },
     "execution_count": 19,
     "metadata": {},
     "output_type": "execute_result"
    }
   ],
   "source": [
    "# 1. 'Received Via'\n",
    "\n",
    "set(df['Received Via'])         # 2 Unique Values "
   ]
  },
  {
   "cell_type": "code",
   "execution_count": 20,
   "id": "09b144a0",
   "metadata": {},
   "outputs": [
    {
     "data": {
      "text/plain": [
       "array(['Customer Care Call', 'Internet'], dtype=object)"
      ]
     },
     "execution_count": 20,
     "metadata": {},
     "output_type": "execute_result"
    }
   ],
   "source": [
    "df['Received Via'].unique()"
   ]
  },
  {
   "cell_type": "code",
   "execution_count": 22,
   "id": "72e8528b",
   "metadata": {},
   "outputs": [
    {
     "data": {
      "text/plain": [
       "928"
      ]
     },
     "execution_count": 22,
     "metadata": {},
     "output_type": "execute_result"
    }
   ],
   "source": [
    "# 2. 'City'\n",
    "\n",
    "len(set(df['City']))"
   ]
  },
  {
   "cell_type": "code",
   "execution_count": 24,
   "id": "e8064c44",
   "metadata": {},
   "outputs": [
    {
     "data": {
      "text/plain": [
       "43"
      ]
     },
     "execution_count": 24,
     "metadata": {},
     "output_type": "execute_result"
    }
   ],
   "source": [
    "# 3. 'State'\n",
    "\n",
    "len(set(df['State']))"
   ]
  },
  {
   "cell_type": "code",
   "execution_count": 26,
   "id": "262f5dab",
   "metadata": {},
   "outputs": [
    {
     "data": {
      "text/plain": [
       "1543"
      ]
     },
     "execution_count": 26,
     "metadata": {},
     "output_type": "execute_result"
    }
   ],
   "source": [
    "# 4. 'Zip code'\n",
    "\n",
    "len(set(df['Zip code']))"
   ]
  },
  {
   "cell_type": "code",
   "execution_count": 27,
   "id": "2ba1ac6e",
   "metadata": {},
   "outputs": [
    {
     "data": {
      "text/plain": [
       "{'Closed', 'Open', 'Pending', 'Solved'}"
      ]
     },
     "execution_count": 27,
     "metadata": {},
     "output_type": "execute_result"
    }
   ],
   "source": [
    "# 5.Status\n",
    "\n",
    "set(df['Status'])"
   ]
  },
  {
   "cell_type": "code",
   "execution_count": 28,
   "id": "d2726dbe",
   "metadata": {},
   "outputs": [
    {
     "data": {
      "text/plain": [
       "{'No', 'Yes'}"
      ]
     },
     "execution_count": 28,
     "metadata": {},
     "output_type": "execute_result"
    }
   ],
   "source": [
    "# 6. 'Filing on Behalf of Someone'\n",
    "\n",
    "set(df['Filing on Behalf of Someone'])"
   ]
  },
  {
   "cell_type": "code",
   "execution_count": 29,
   "id": "a453e4c2",
   "metadata": {},
   "outputs": [],
   "source": [
    "# Data Preprocessing : "
   ]
  },
  {
   "cell_type": "code",
   "execution_count": 30,
   "id": "75368d3e",
   "metadata": {},
   "outputs": [
    {
     "data": {
      "text/plain": [
       "{'Closed', 'Open', 'Pending', 'Solved'}"
      ]
     },
     "execution_count": 30,
     "metadata": {},
     "output_type": "execute_result"
    }
   ],
   "source": [
    "# 5.Status\n",
    "\n",
    "set(df['Status'])"
   ]
  },
  {
   "cell_type": "code",
   "execution_count": 34,
   "id": "934c22f6",
   "metadata": {},
   "outputs": [
    {
     "data": {
      "text/plain": [
       "Solved     973\n",
       "Closed     734\n",
       "Open       363\n",
       "Pending    154\n",
       "Name: Status, dtype: int64"
      ]
     },
     "execution_count": 34,
     "metadata": {},
     "output_type": "execute_result"
    }
   ],
   "source": [
    "# count\n",
    "\n",
    "df['Status'].value_counts()"
   ]
  },
  {
   "cell_type": "code",
   "execution_count": 35,
   "id": "51950c18",
   "metadata": {},
   "outputs": [],
   "source": [
    "# Replace 'Closed' => 'Solved' also 'Pending' => 'Open' in column 'Status' "
   ]
  },
  {
   "cell_type": "code",
   "execution_count": 37,
   "id": "f167154b",
   "metadata": {},
   "outputs": [],
   "source": [
    "# List Comprehension : \n",
    "# list_name = [ expression         condition             for i in  list]"
   ]
  },
  {
   "cell_type": "code",
   "execution_count": 38,
   "id": "ba42b343",
   "metadata": {},
   "outputs": [],
   "source": [
    "df['New_Status'] = ['Solved'         if i == 'Closed' or i == 'Solved'  else 'Open'   \n",
    "                    for i in  df['Status']]"
   ]
  },
  {
   "cell_type": "code",
   "execution_count": 41,
   "id": "5fd7ed5a",
   "metadata": {},
   "outputs": [
    {
     "data": {
      "text/plain": [
       "Solved    1707\n",
       "Open       517\n",
       "Name: New_Status, dtype: int64"
      ]
     },
     "execution_count": 41,
     "metadata": {},
     "output_type": "execute_result"
    }
   ],
   "source": [
    "df['New_Status'].value_counts()"
   ]
  },
  {
   "cell_type": "code",
   "execution_count": 42,
   "id": "ee299be7",
   "metadata": {},
   "outputs": [],
   "source": [
    "# Exploratory Data Analysis EDA :  "
   ]
  },
  {
   "cell_type": "code",
   "execution_count": 67,
   "id": "2c84fafd",
   "metadata": {},
   "outputs": [],
   "source": [
    "# 1. UniVariate Analysis :"
   ]
  },
  {
   "cell_type": "code",
   "execution_count": 43,
   "id": "0d61f2e6",
   "metadata": {},
   "outputs": [
    {
     "data": {
      "text/plain": [
       "Solved    1707\n",
       "Open       517\n",
       "Name: New_Status, dtype: int64"
      ]
     },
     "execution_count": 43,
     "metadata": {},
     "output_type": "execute_result"
    }
   ],
   "source": [
    "# 1.  Display Complaint Status in values and percentages.\n",
    "\n",
    "df['New_Status'].value_counts()"
   ]
  },
  {
   "cell_type": "code",
   "execution_count": 48,
   "id": "5d42fc4f",
   "metadata": {},
   "outputs": [
    {
     "data": {
      "image/png": "[encoded data removed]",
      "text/plain": [
       "<Figure size 300x300 with 1 Axes>"
      ]
     },
     "metadata": {},
     "output_type": "display_data"
    }
   ],
   "source": [
    "plt.figure(figsize= (3,3))\n",
    "df['New_Status'].value_counts().plot.bar()\n",
    "plt.xlabel('Complaint Status')\n",
    "plt.ylabel('Compaint Count')\n",
    "plt.show()\n"
   ]
  },
  {
   "cell_type": "code",
   "execution_count": 53,
   "id": "56edc525",
   "metadata": {},
   "outputs": [
    {
     "data": {
      "text/plain": [
       "Solved    76.75\n",
       "Open      23.25\n",
       "Name: New_Status, dtype: float64"
      ]
     },
     "execution_count": 53,
     "metadata": {},
     "output_type": "execute_result"
    }
   ],
   "source": [
    "# Complaint Status in %\n",
    "\n",
    "round(df['New_Status'].value_counts() / df.shape[0] * 100 , 2)"
   ]
  },
  {
   "cell_type": "code",
   "execution_count": 56,
   "id": "772fcf00",
   "metadata": {},
   "outputs": [
    {
     "data": {
      "text/plain": [
       "<Axes: ylabel='New_Status'>"
      ]
     },
     "execution_count": 56,
     "metadata": {},
     "output_type": "execute_result"
    },
    {
     "data": {
      "image/png": "[encoded data removed]",
      "text/plain": [
       "<Figure size 640x480 with 1 Axes>"
      ]
     },
     "metadata": {},
     "output_type": "display_data"
    }
   ],
   "source": [
    "round(df['New_Status'].value_counts() / df.shape[0] * 100 , 2).plot.pie()"
   ]
  },
  {
   "cell_type": "code",
   "execution_count": 57,
   "id": "482d0f3d",
   "metadata": {},
   "outputs": [],
   "source": [
    "# Categorical Features : 'Received Via', 'State',Status', 'Filing on Behalf of Someone'\n",
    "\n",
    "# bar() barh() pie() "
   ]
  },
  {
   "cell_type": "code",
   "execution_count": 58,
   "id": "d7138ebd",
   "metadata": {},
   "outputs": [],
   "source": [
    "# 2. Find and Display compalaints' received via' in numbers and percentages.\n",
    "# 3. Find and Display compalaints throught each 'state' in numbers and percentages. top 10.\n",
    "# 4. Find and Display compalaints ''Filing on Behalf of Someone'' in numbers and %."
   ]
  },
  {
   "cell_type": "code",
   "execution_count": 65,
   "id": "85c486ac",
   "metadata": {},
   "outputs": [
    {
     "data": {
      "text/plain": [
       "Georgia         12.95\n",
       "Florida         10.79\n",
       "California       9.89\n",
       "Illinois         7.37\n",
       "Tennessee        6.43\n",
       "Pennsylvania     5.85\n",
       "Michigan         5.17\n",
       "Washington       4.41\n",
       "Colorado         3.60\n",
       "Maryland         3.51\n",
       "Name: State, dtype: float64"
      ]
     },
     "execution_count": 65,
     "metadata": {},
     "output_type": "execute_result"
    }
   ],
   "source": [
    "# 2. State\n",
    "\n",
    "round(df['State'].value_counts()[ : 10] / df.shape[0] * 100, 2)"
   ]
  },
  {
   "cell_type": "code",
   "execution_count": 66,
   "id": "c760da3e",
   "metadata": {},
   "outputs": [
    {
     "data": {
      "text/plain": [
       "<Axes: >"
      ]
     },
     "execution_count": 66,
     "metadata": {},
     "output_type": "execute_result"
    },
    {
     "data": {
      "image/png": "[encoded data removed]",
      "text/plain": [
       "<Figure size 640x480 with 1 Axes>"
      ]
     },
     "metadata": {},
     "output_type": "display_data"
    }
   ],
   "source": [
    "\n",
    "round(df['State'].value_counts()[ : 10] / df.shape[0] * 100, 2).plot.barh()"
   ]
  },
  {
   "cell_type": "code",
   "execution_count": 70,
   "id": "5f7ea7ab",
   "metadata": {},
   "outputs": [
    {
     "data": {
      "text/plain": [
       "No     2021\n",
       "Yes     203\n",
       "Name: Filing on Behalf of Someone, dtype: int64"
      ]
     },
     "execution_count": 70,
     "metadata": {},
     "output_type": "execute_result"
    }
   ],
   "source": [
    "# 3. 'Filing on Behalf of Someone'\n",
    "\n",
    "df['Filing on Behalf of Someone'].value_counts() "
   ]
  },
  {
   "cell_type": "code",
   "execution_count": 68,
   "id": "cb5ae30d",
   "metadata": {},
   "outputs": [
    {
     "data": {
      "text/plain": [
       "No     90.87\n",
       "Yes     9.13\n",
       "Name: Filing on Behalf of Someone, dtype: float64"
      ]
     },
     "execution_count": 68,
     "metadata": {},
     "output_type": "execute_result"
    }
   ],
   "source": [
    "# 'Filing on Behalf of Someone'\n",
    "\n",
    "round(df['Filing on Behalf of Someone'].value_counts() / df.shape[0] * 100, 2)"
   ]
  },
  {
   "cell_type": "code",
   "execution_count": 71,
   "id": "06c474c4",
   "metadata": {},
   "outputs": [],
   "source": [
    "# Bi Variate Analysis : "
   ]
  },
  {
   "cell_type": "code",
   "execution_count": 72,
   "id": "aa6128a0",
   "metadata": {},
   "outputs": [],
   "source": [
    " #groupby()"
   ]
  },
  {
   "cell_type": "code",
   "execution_count": 73,
   "id": "b72fd2aa",
   "metadata": {},
   "outputs": [],
   "source": [
    "# Categorical Features : 'Received Via', 'State',Status', 'Filing on Behalf of Someone'"
   ]
  },
  {
   "cell_type": "code",
   "execution_count": 77,
   "id": "191f9294",
   "metadata": {},
   "outputs": [],
   "source": [
    "# 5. Display state wise Compaint status.\n",
    "\n",
    "df.groupby('State')['New_Status'].value_counts().unstack()"
   ]
  },
  {
   "cell_type": "code",
   "execution_count": 82,
   "id": "492613bd",
   "metadata": {},
   "outputs": [
    {
     "data": {
      "text/plain": [
       "<Figure size 1000x500 with 0 Axes>"
      ]
     },
     "metadata": {},
     "output_type": "display_data"
    },
    {
     "data": {
      "image/png": "[encoded data removed]",
      "text/plain": [
       "<Figure size 640x480 with 1 Axes>"
      ]
     },
     "metadata": {},
     "output_type": "display_data"
    }
   ],
   "source": [
    "plt.figure(figsize = (10,5))\n",
    "df.groupby('State')['New_Status'].value_counts().unstack().plot.bar()\n",
    "plt.show()"
   ]
  },
  {
   "cell_type": "code",
   "execution_count": null,
   "id": "7c09416f",
   "metadata": {},
   "outputs": [],
   "source": []
  },
  {
   "cell_type": "code",
   "execution_count": null,
   "id": "f28c1665",
   "metadata": {},
   "outputs": [],
   "source": []
  }
 ],
 "metadata": {
  "kernelspec": {
   "display_name": "Python 3 (ipykernel)",
   "language": "python",
   "name": "python3"
  },
  "language_info": {
   "codemirror_mode": {
    "name": "ipython",
    "version": 3
   },
   "file_extension": ".py",
   "mimetype": "text/x-python",
   "name": "python",
   "nbconvert_exporter": "python",
   "pygments_lexer": "ipython3",
   "version": "3.9.13"
  }
 },
 "nbformat": 4,
 "nbformat_minor": 5
}
